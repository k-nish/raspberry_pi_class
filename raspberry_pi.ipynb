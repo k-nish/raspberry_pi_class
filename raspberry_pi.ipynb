{
 "cells": [
  {
   "cell_type": "markdown",
   "metadata": {},
   "source": [
    "## 概要\n",
    "\n",
    "### 夜\n",
    "\n",
    "- 起床時間をセット\n",
    "\n",
    "- 翌朝の天気予報を読み上げ\n",
    "    いらない可能\n",
    "\n",
    "### 朝\n",
    "\n",
    "- アラーム\n",
    "- 起床をモーションセンサーで感知\n",
    "- 体感温度、天気を読み上げ:open jtalk\n",
    "- [option]ニュース読み上げ、スケジュール読み上げ?"
   ]
  },
  {
   "cell_type": "markdown",
   "metadata": {
    "collapsed": true
   },
   "source": [
    "## 機能\n",
    "\n",
    "### 夜\n",
    "\n",
    "- 設定時間にスクリプト起動:cron\n",
    "\n",
    "- 音声認識:起床時間の認識:ドコモapi , google api\n",
    "\n",
    "- 天気API:天気の取得　<完了>\n",
    "\n",
    "- 音声出力:明日の天気読み上げ:open jtalk\n",
    "    \n",
    "- アラームの設定:音声認識結果を引数に設定して朝のスクリプト起動時刻を設定\n",
    "\n",
    "### 朝\n",
    "\n",
    "- 設定時間にスクリプト起動:cron\n",
    "\n",
    "- アラーム起動(やり方不明)\n",
    "\n",
    "- 起床をモーションセンサーで感知\n",
    "\n",
    "- 温度、湿度を計測\n",
    "\n",
    "- 体感温度を計算\n",
    "\n",
    "- 天気API:天気の取得 <完了>\n",
    "    \n",
    "- 体感温度,天気の読み上げ\n",
    "    \n",
    "- yahooAPI:ニュースの取得 <完了>\n",
    "    "
   ]
  },
  {
   "cell_type": "markdown",
   "metadata": {
    "collapsed": true
   },
   "source": [
    "## 1020 議事録\n",
    "\n",
    "### やること\n",
    "\n",
    "- モーションセンサー:菱田,アーサ\n",
    "\n",
    "- 音声認識:西村\n",
    "\n",
    "- 温度、湿度を計算し体感温度を計算:力石    "
   ]
  },
  {
   "cell_type": "markdown",
   "metadata": {
    "collapsed": true
   },
   "source": [
    "### 終わったこと\n",
    "\n",
    "- 温湿度センサー:測定ができることと、計算まで終了\n",
    "    \n",
    "- 人感センサー:値をpythonで出力\n",
    "    \n",
    "- マイク:音を保存\n",
    "\n",
    "- スピーカー:open jtalkで音を出力\n",
    "\n",
    "- 音声認識:juliusで音声認識"
   ]
  },
  {
   "cell_type": "markdown",
   "metadata": {},
   "source": [
    "### メモ(URL)\n",
    "\n",
    "- http://qiita.com/t_oginogin/items/0634000e6713f9174b5f\n",
    "\n",
    "- http://qiita.com/t_oginogin/items/f0ba9d2eb622c05558f4\n",
    "\n",
    "- https://ja.osdn.net/projects/julius/releases/p4012\n",
    "\n",
    "- http://uramonk.hatenablog.com/entry/2014/04/15/225130\n",
    "\n",
    "- http://usicolog.nomaki.jp/engineering/raspberryPi/raspberryPi_Julius.html\n",
    "    \n",
    "- http://windvoice.hatenablog.jp/entry/2015/02/22/165457\n",
    "    \n",
    "- http://blog.livedoor.jp/sce_info3-craft/archives/9248622.html    \n",
    "    \n",
    "- http://magayengineer.hatenablog.com/entry/2016/07/06/231533\n",
    "    \n",
    "- http://qiita.com/sayonari/items/65a5aea83d1fadac7d5c\n",
    "    \n",
    "- http://qiita.com/lethe2211/items/7c9b1b82c7eda40dafa9"
   ]
  },
  {
   "cell_type": "markdown",
   "metadata": {},
   "source": [
    "### 1027\n",
    "\n",
    "#### やったこと\n",
    "\n",
    "- スピーカー、温湿度計の修正\n",
    "\n",
    "- juliusの辞書構築\n",
    "\n",
    "- スクリプト全体の設計(以下の通り)"
   ]
  },
  {
   "cell_type": "markdown",
   "metadata": {
    "collapsed": true
   },
   "source": [
    "```\n",
    "# cron でmorning.pyを実行\n",
    "\n",
    "# 起床用の音を出す\n",
    "def bell(起床時間):\n",
    "    \n",
    "\n",
    "# 起床を確認する\n",
    "def　check_wakeup():\n",
    "#     0.5秒ごとにfileを読む\n",
    "# 1回でも1になったらtrue\n",
    "    return boolean\n",
    "\n",
    "def read_temp():\n",
    "#     体感温度を計算、読み上げ\n",
    "        return \n",
    "\n",
    "def read_news():\n",
    "#     ニュースを取得し、読み上げる\n",
    "\n",
    "def read_weather():\n",
    "#     天気を取得し、読み上げる\n",
    "\n",
    "def sound(string):\n",
    "#     与えられた音声を読み上げる\n",
    "```"
   ]
  },
  {
   "cell_type": "code",
   "execution_count": null,
   "metadata": {
    "collapsed": true
   },
   "outputs": [],
   "source": []
  }
 ],
 "metadata": {
  "anaconda-cloud": {},
  "kernelspec": {
   "display_name": "Python [gci]",
   "language": "python",
   "name": "Python [gci]"
  },
  "language_info": {
   "codemirror_mode": {
    "name": "ipython",
    "version": 2
   },
   "file_extension": ".py",
   "mimetype": "text/x-python",
   "name": "python",
   "nbconvert_exporter": "python",
   "pygments_lexer": "ipython2",
   "version": "2.7.12"
  }
 },
 "nbformat": 4,
 "nbformat_minor": 0
}
