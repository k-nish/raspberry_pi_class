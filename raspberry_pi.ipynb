{
 "cells": [
  {
   "cell_type": "markdown",
   "metadata": {},
   "source": [
    "## 概要\n",
    "\n",
    "### 夜\n",
    "\n",
    "- 起床時間をセット\n",
    "\n",
    "- 翌朝の天気予報を読み上げ\n",
    "    いらない可能\n",
    "\n",
    "### 朝\n",
    "\n",
    "- アラーム\n",
    "- 起床をモーションセンサーで感知\n",
    "- 体感温度、天気を読み上げ:open jtalk\n",
    "- [option]ニュース読み上げ、スケジュール読み上げ?"
   ]
  },
  {
   "cell_type": "code",
   "execution_count": null,
   "metadata": {
    "collapsed": true
   },
   "outputs": [],
   "source": [
    "## 機能\n",
    "\n",
    "### 夜\n",
    "\n",
    "- 設定時間にスクリプト起動:cron\n",
    "\n",
    "- 音声認識:起床時間の認識:ドコモapi , google api\n",
    "\n",
    "- 天気API:天気の取得　<完了>\n",
    "\n",
    "- 音声出力:明日の天気読み上げ:open jtalk\n",
    "    \n",
    "- アラームの設定:音声認識結果を引数に設定して朝のスクリプト起動時刻を設定\n",
    "\n",
    "### 朝\n",
    "\n",
    "- 設定時間にスクリプト起動:cron\n",
    "\n",
    "- アラーム起動(やり方不明)\n",
    "\n",
    "- 起床をモーションセンサーで感知\n",
    "\n",
    "- 温度、湿度を計測\n",
    "\n",
    "- 体感温度を計算\n",
    "\n",
    "- 天気API:天気の取得 <完了>\n",
    "    \n",
    "- 体感温度,天気の読み上げ\n",
    "    \n",
    "- yahooAPI:ニュースの取得 <完了>\n",
    "    "
   ]
  },
  {
   "cell_type": "code",
   "execution_count": null,
   "metadata": {
    "collapsed": true
   },
   "outputs": [],
   "source": []
  }
 ],
 "metadata": {
  "anaconda-cloud": {},
  "kernelspec": {
   "display_name": "Python [gci]",
   "language": "python",
   "name": "Python [gci]"
  },
  "language_info": {
   "codemirror_mode": {
    "name": "ipython",
    "version": 2
   },
   "file_extension": ".py",
   "mimetype": "text/x-python",
   "name": "python",
   "nbconvert_exporter": "python",
   "pygments_lexer": "ipython2",
   "version": "2.7.12"
  }
 },
 "nbformat": 4,
 "nbformat_minor": 0
}
